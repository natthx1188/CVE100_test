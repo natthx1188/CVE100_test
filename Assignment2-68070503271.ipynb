{
  "cells": [
    {
      "cell_type": "markdown",
      "metadata": {
        "id": "view-in-github",
        "colab_type": "text"
      },
      "source": [
        "<a href=\"https://colab.research.google.com/github/natthx1188/CVE100_test/blob/main/Assignment2-68070503271.ipynb\" target=\"_parent\"><img src=\"https://colab.research.google.com/assets/colab-badge.svg\" alt=\"Open In Colab\"/></a>"
      ]
    },
    {
      "cell_type": "markdown",
      "metadata": {
        "id": "BLewHRbnfGhZ"
      },
      "source": [
        "#  Numbers"
      ]
    },
    {
      "cell_type": "markdown",
      "metadata": {
        "id": "UTTDWzhIfGhb"
      },
      "source": [
        "Compute the number of bytes in one Gigabyte (1kb = 1024 bytes, 1mb = 1024 kb, 1gb = 1024 mb)"
      ]
    },
    {
      "cell_type": "code",
      "execution_count": 19,
      "metadata": {
        "id": "Mc0XjBCsfGhb",
        "colab": {
          "base_uri": "https://localhost:8080/"
        },
        "outputId": "d50f174a-fbf5-494f-d72e-e0418221252e"
      },
      "outputs": [
        {
          "output_type": "stream",
          "name": "stdout",
          "text": [
            "number of bytes in one Gigabyte 1073741824\n"
          ]
        }
      ],
      "source": [
        "# 1kb = 1024 bytes,1mb = 1024kb , 1gb = 1024 mb\n",
        "bytes_in_one_Gigabyte = 1024 * 1024 * 1024\n",
        "print (\"number of bytes in one Gigabyte\" ,bytes_in_one_Gigabyte )\n"
      ]
    },
    {
      "cell_type": "markdown",
      "metadata": {
        "id": "FkWFDbzOfGhc"
      },
      "source": [
        "You bought 500 shares of stock A at $\\$$600 on day 0 and you sold it at  $\\$$1000 on day 700.\n",
        "The daily discount rate is 0.0001%. How much profit did you make in terms of net present value.\n"
      ]
    },
    {
      "cell_type": "code",
      "execution_count": 12,
      "metadata": {
        "id": "HLPiDDD2fGhc",
        "colab": {
          "base_uri": "https://localhost:8080/"
        },
        "outputId": "6bc875b9-6818-4b2f-9877-57d22c7c5ce4"
      },
      "outputs": [
        {
          "output_type": "stream",
          "name": "stdout",
          "text": [
            "Net Present Value Profit: 199650.12264632783\n"
          ]
        }
      ],
      "source": [
        "shares = 500\n",
        "buy_price = 600\n",
        "sell_price = 1000\n",
        "r = 0.000001   # 0.0001% as decimal\n",
        "t = 700\n",
        "\n",
        "initial_cost = shares * buy_price\n",
        "future_value = shares * sell_price\n",
        "\n",
        "present_value = future_value / ((1 + r) ** t)\n",
        "\n",
        "profit = present_value - initial_cost\n",
        "\n",
        "print(\"Net Present Value :\", profit)\n"
      ]
    },
    {
      "cell_type": "markdown",
      "metadata": {
        "id": "TTZ-OgGNfGhc"
      },
      "source": [
        "For any value of x, create a variable called even_check that is True if x is even and False if x is odd."
      ]
    },
    {
      "cell_type": "code",
      "execution_count": 18,
      "metadata": {
        "run_control": {
          "marked": true
        },
        "id": "VlSsQdhSfGhc",
        "colab": {
          "base_uri": "https://localhost:8080/"
        },
        "outputId": "28e123fe-0998-4786-b4b0-38395d9de6a1"
      },
      "outputs": [
        {
          "output_type": "stream",
          "name": "stdout",
          "text": [
            "x is even\n"
          ]
        }
      ],
      "source": [
        "#given example number ,x=4\n",
        "x = 4\n",
        "even_check =(x%2 == 0)\n",
        "if even_check:\n",
        "    print(\"x is even\")\n",
        "else:\n",
        "    print(\"x is odd\")\n"
      ]
    },
    {
      "cell_type": "markdown",
      "metadata": {
        "id": "k-B08kMFfGhd"
      },
      "source": [
        "You have num_shirts t-shirts, num_shorts pairs of shorts and num_shoes pairs of shoes.  Create a variable called num_outfits that stores the total number of different outfits you can make."
      ]
    },
    {
      "cell_type": "code",
      "execution_count": 22,
      "metadata": {
        "id": "XnSOY1QdfGhd",
        "colab": {
          "base_uri": "https://localhost:8080/"
        },
        "outputId": "d2622335-9c08-44c7-c822-ed0f44087498"
      },
      "outputs": [
        {
          "output_type": "stream",
          "name": "stdout",
          "text": [
            "7\n"
          ]
        }
      ],
      "source": [
        "num_shirt = 2\n",
        "num_shorts = 3\n",
        "num_shoes = 2\n",
        "\n",
        "num_outfits = num_shirt + num_shorts + num_shoes\n",
        "print(num_outfits)\n",
        "\n",
        "\n",
        "\n"
      ]
    },
    {
      "cell_type": "markdown",
      "metadata": {
        "id": "sS8iJrDCfGhd"
      },
      "source": [
        "# String Practice\n",
        "\n",
        "Create variable called \"name\" that stores your full name. Find whether your name has an even or odd number of letters."
      ]
    },
    {
      "cell_type": "code",
      "execution_count": 10,
      "metadata": {
        "id": "MlM3FAowfGhd",
        "colab": {
          "base_uri": "https://localhost:8080/"
        },
        "outputId": "217d0703-65da-4dc9-e03d-57636b94da1a"
      },
      "outputs": [
        {
          "output_type": "stream",
          "name": "stdout",
          "text": [
            "Your name has odd number of letter\n"
          ]
        }
      ],
      "source": [
        "#Write your code here\n",
        "name = \"Natthaphorn Phunphiphat\"\n",
        "length_of_name = len(name)\n",
        "if length_of_name % 2 == 0:\n",
        "  print(\"Your name has even number of letter\")\n",
        "else:\n",
        "  print(\"Your name has odd number of letter\")\n"
      ]
    },
    {
      "cell_type": "markdown",
      "metadata": {
        "id": "YvSZ4hdGfGhd"
      },
      "source": [
        "Correct the following variable so it is equal to \"spammy\""
      ]
    },
    {
      "cell_type": "code",
      "execution_count": 14,
      "metadata": {
        "id": "dhhqf__BfGhd",
        "colab": {
          "base_uri": "https://localhost:8080/"
        },
        "outputId": "d5b06613-79f9-4c2d-b859-1b8aaa686dcd"
      },
      "outputs": [
        {
          "output_type": "stream",
          "name": "stdout",
          "text": [
            "spammy\n"
          ]
        }
      ],
      "source": [
        "#Write your code here\n",
        "s = \"spaxxy\"\n",
        "s = s.replace(\"xx\",\"mm\")\n",
        "print(s)"
      ]
    },
    {
      "cell_type": "markdown",
      "metadata": {
        "id": "8fOln23FfGhe"
      },
      "source": [
        "Figure out a way to slice and combine the strings s1, s2, and s3 so that the variable consec_ints = \"123456789\"."
      ]
    },
    {
      "cell_type": "code",
      "execution_count": 17,
      "metadata": {
        "id": "s25IRcVQfGhe",
        "colab": {
          "base_uri": "https://localhost:8080/"
        },
        "outputId": "e5120553-b395-4600-d399-db26baad3cc6"
      },
      "outputs": [
        {
          "output_type": "stream",
          "name": "stdout",
          "text": [
            "123456789\n"
          ]
        }
      ],
      "source": [
        "s1 = \"12345\"\n",
        "s2 = \"34567\"\n",
        "s3 = \"789\"\n",
        "\n",
        "consect_ints = s1+s2[3:]+s3[1:]\n",
        "print(consect_ints)\n",
        "\n"
      ]
    },
    {
      "cell_type": "markdown",
      "metadata": {
        "id": "MzuF8ccbfGhe"
      },
      "source": [
        "#  List Practice\n",
        "\n"
      ]
    },
    {
      "cell_type": "markdown",
      "metadata": {
        "id": "S9paIxyRfGhe"
      },
      "source": [
        "Add the first and last elements of the list L. Store the result in a variable called sum_first_last. Your code should work if I change L."
      ]
    },
    {
      "cell_type": "code",
      "execution_count": 8,
      "metadata": {
        "id": "jUCVRCR6fGhe",
        "colab": {
          "base_uri": "https://localhost:8080/"
        },
        "outputId": "073db86b-306c-45d3-e575-f5f23a4f45c5"
      },
      "outputs": [
        {
          "output_type": "stream",
          "name": "stdout",
          "text": [
            "72\n"
          ]
        }
      ],
      "source": [
        "L = [5,1,43,2,4,56,7,90, 67]\n",
        "sum_first_last = L[0] + L[8]\n",
        "print(sum_first_last)\n"
      ]
    },
    {
      "cell_type": "markdown",
      "metadata": {
        "id": "5UGJYjDffGhf"
      },
      "source": [
        "Slice and combine the elements of the list L in a way to print out \"spam\"."
      ]
    },
    {
      "cell_type": "code",
      "execution_count": 6,
      "metadata": {
        "id": "hros73xOfGhf",
        "colab": {
          "base_uri": "https://localhost:8080/"
        },
        "outputId": "8567054c-7d14-4836-918e-51d93d446fbf"
      },
      "outputs": [
        {
          "output_type": "stream",
          "name": "stdout",
          "text": [
            "spam\n"
          ]
        }
      ],
      "source": [
        "L = [1,\"s\", 2, 3, \"p\", \"a\", 34,1,\"m\"]\n",
        "list_L = L[1]+L[4]+L[5]+L[8]\n",
        "print(list_L)\n",
        "\n"
      ]
    },
    {
      "cell_type": "markdown",
      "metadata": {
        "id": "9bhZp7W1fGhf"
      },
      "source": [
        "Create a variable called num_L which store the number represented by the list of strings in L.  For the example num_L should be 145. You may assume 3 digit numbers."
      ]
    },
    {
      "cell_type": "code",
      "execution_count": 5,
      "metadata": {
        "id": "9h850_GPfGhf",
        "colab": {
          "base_uri": "https://localhost:8080/"
        },
        "outputId": "2c34e237-bc95-4521-cd62-8a8ad1fcea9e"
      },
      "outputs": [
        {
          "output_type": "stream",
          "name": "stdout",
          "text": [
            "List L ['1', '4', '5']\n",
            "Number for L :  145\n"
          ]
        }
      ],
      "source": [
        "L = [\"1\",\"4\",\"5\" ]\n",
        "num_L = int(\"\".join(L))\n",
        "print(\"List L\",L)\n",
        "print(\"Number for L : \",num_L )\n"
      ]
    },
    {
      "cell_type": "markdown",
      "metadata": {
        "id": "9NwJzuSNfGhf"
      },
      "source": [
        "Create a list L of numbers of odd length.  Complete the following tasks:\n",
        "\n",
        " - Find the median element\n",
        " - Slice out all element indexed lower than the median element"
      ]
    },
    {
      "cell_type": "code",
      "execution_count": 24,
      "metadata": {
        "id": "ZAHD1O02fGhg",
        "colab": {
          "base_uri": "https://localhost:8080/"
        },
        "outputId": "655654f4-b7ac-497f-bc08-03226ada97ed"
      },
      "outputs": [
        {
          "output_type": "stream",
          "name": "stdout",
          "text": [
            "Original list: [4, 5, 3, 2, 6, 6, 9]\n",
            "Median element: 2\n",
            "Sliced list: 2\n"
          ]
        }
      ],
      "source": [
        "L= [4,5,3,2,6,6,9]\n",
        "median_index = len(L)//2\n",
        "median_element = L[median_index]\n",
        "sliced_list = L[median_index]\n",
        "print(\"Original list:\", L)\n",
        "print(\"Median element:\", median_element)\n",
        "print(\"Sliced list:\", sliced_list)\n"
      ]
    }
  ],
  "metadata": {
    "kernelspec": {
      "display_name": "Python 3",
      "language": "python",
      "name": "python3"
    },
    "language_info": {
      "codemirror_mode": {
        "name": "ipython",
        "version": 3
      },
      "file_extension": ".py",
      "mimetype": "text/x-python",
      "name": "python",
      "nbconvert_exporter": "python",
      "pygments_lexer": "ipython3",
      "version": "3.6.0"
    },
    "toc": {
      "colors": {
        "hover_highlight": "#DAA520",
        "navigate_num": "#000000",
        "navigate_text": "#333333",
        "running_highlight": "#FF0000",
        "selected_highlight": "#FFD700",
        "sidebar_border": "#EEEEEE",
        "wrapper_background": "#FFFFFF"
      },
      "moveMenuLeft": true,
      "nav_menu": {
        "height": "12px",
        "width": "252px"
      },
      "navigate_menu": true,
      "number_sections": true,
      "sideBar": true,
      "skip_h1_title": false,
      "threshold": 4,
      "toc_cell": false,
      "toc_position": {},
      "toc_section_display": "block",
      "toc_window_display": false,
      "widenNotebook": false
    },
    "colab": {
      "provenance": [],
      "include_colab_link": true
    }
  },
  "nbformat": 4,
  "nbformat_minor": 0
}