{
 "cells": [
  {
   "cell_type": "code",
   "execution_count": null,
   "id": "f6bb9330",
   "metadata": {},
   "outputs": [],
   "source": [
    "You are asked to design a simple Car Rental System using classes and objects.\n",
    "Steps:\n",
    "1. Define a class named Car. (2 marks)\n",
    "2. Add an initializer (__init__) method with three attributes: (3 marks)\n",
    "o model (string)\n",
    "o rent_per_day (float)\n",
    "o available (boolean, default value = True)\n",
    "3. Add a method rent(days) that: (4 marks)\n",
    "o If available is True, set it to False, calculate total cost (rent_per_day × days),\n",
    "and print \"Car rented. Total cost = \" with the cost.\n",
    "o Otherwise, print \"Car not available\"\n",
    "4. Add a method return_car() that: (4 marks)\n",
    "o Sets available to True\n",
    "o Prints \"Car returned\"\n",
    "5. Add a method display() that prints the car model, rent per day, and availability status.\n",
    "(3 marks)\n",
    "6. In the main program: (9 marks)\n",
    "o Create an object for Car with a model and rent per day. (2 marks)\n",
    "o Call the rent method for 5 days. (2 marks)\n",
    "o Call the display method. (2 marks)\n",
    "o Call the return_car method and display the car info again. (3 marks)"
   ]
  },
  {
   "cell_type": "code",
   "execution_count": 1,
   "id": "85cef75d",
   "metadata": {},
   "outputs": [
    {
     "name": "stdout",
     "output_type": "stream",
     "text": [
      "Car rented. Total cost = 6000.0\n",
      "Model: Toyota Camry\n",
      "Rent per day: 1200.0\n",
      "Status: Not available\n",
      "Car returned\n",
      "Model: Toyota Camry\n",
      "Rent per day: 1200.0\n",
      "Status: Available\n"
     ]
    }
   ],
   "source": [
    "class Car:\n",
    "    def __init__(self, model: str, rent_per_day: float, available: bool = True):\n",
    "        self.model = model\n",
    "        self.rent_per_day = rent_per_day\n",
    "        self.available = available\n",
    "\n",
    "    def rent(self, days: int):\n",
    "        if self.available:\n",
    "            self.available = False\n",
    "            total_cost = self.rent_per_day * days\n",
    "            print(f\"Car rented. Total cost = {total_cost}\")\n",
    "        else:\n",
    "            print(\"Car not available\")\n",
    "\n",
    "    def return_car(self):\n",
    "        self.available = True\n",
    "        print(\"Car returned\")\n",
    "\n",
    "    def display(self):\n",
    "        status = \"Available\" if self.available else \"Not available\"\n",
    "        print(f\"Model: {self.model}\")\n",
    "        print(f\"Rent per day: {self.rent_per_day}\")\n",
    "        print(f\"Status: {status}\")\n",
    "\n",
    "# Main program\n",
    "car1 = Car(\"Toyota Camry\", 1200.0)\n",
    "car1.rent(5)\n",
    "car1.display()\n",
    "car1.return_car()\n",
    "car1.display()"
   ]
  },
  {
   "cell_type": "code",
   "execution_count": null,
   "id": "71cb563f",
   "metadata": {},
   "outputs": [],
   "source": [
    "def sum_even_numbers(n):\n",
    "    total = 0\n",
    "    for i in range(2, n+1, 2):\n",
    "        total += i\n",
    "    return total\n",
    "\n",
    "# Main program\n",
    "num = int(input(\"Enter a number: \"))\n",
    "result = sum_even_numbers(num)\n",
    "print(\"Sum of even numbers =\", result)"
   ]
  }
 ],
 "metadata": {
  "kernelspec": {
   "display_name": "Python 3",
   "language": "python",
   "name": "python3"
  },
  "language_info": {
   "codemirror_mode": {
    "name": "ipython",
    "version": 3
   },
   "file_extension": ".py",
   "mimetype": "text/x-python",
   "name": "python",
   "nbconvert_exporter": "python",
   "pygments_lexer": "ipython3",
   "version": "3.13.7"
  }
 },
 "nbformat": 4,
 "nbformat_minor": 5
}
