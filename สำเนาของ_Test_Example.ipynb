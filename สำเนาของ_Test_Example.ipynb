{
  "cells": [
    {
      "cell_type": "markdown",
      "metadata": {
        "id": "view-in-github",
        "colab_type": "text"
      },
      "source": [
        "<a href=\"https://colab.research.google.com/github/natthx1188/CVE100_test/blob/main/%E0%B8%AA%E0%B8%B3%E0%B9%80%E0%B8%99%E0%B8%B2%E0%B8%82%E0%B8%AD%E0%B8%87_Test_Example.ipynb\" target=\"_parent\"><img src=\"https://colab.research.google.com/assets/colab-badge.svg\" alt=\"Open In Colab\"/></a>"
      ]
    },
    {
      "cell_type": "markdown",
      "source": [
        "Question 1 — 15 marks\n",
        "\n",
        "1.1. Create a dictionary named student with the keys and values:\n",
        "{\"name\": \"Alex\", \"age\": 20, \"grade\": \"B\"}. (3 marks)\n",
        "\n",
        "1.2. Display the value of the \"name\" key. (3 marks)\n",
        "\n",
        "1.3. Change the \"grade\" value to \"A\". (3 marks)\n",
        "\n",
        "1.4. Add a new key \"major\" with the value \"Computer Engineering\" to the dictionary. (3marks)\n",
        "\n",
        "1.5. Print all key-value pairs in the dictionary using a for loop. (3 marks)"
      ],
      "metadata": {
        "id": "koJLxfubU4yW"
      },
      "id": "koJLxfubU4yW"
    },
    {
      "cell_type": "code",
      "execution_count": null,
      "id": "b3e0f697",
      "metadata": {
        "colab": {
          "base_uri": "https://localhost:8080/"
        },
        "id": "b3e0f697",
        "outputId": "4880852a-8371-4567-c2ae-7522ff736b57"
      },
      "outputs": [
        {
          "output_type": "stream",
          "name": "stdout",
          "text": [
            "Alex\n",
            "name: Alex\n",
            "age: 20\n",
            "grade: A\n",
            "major: Computer Engineering\n"
          ]
        }
      ],
      "source": [
        "# 1.1. Create the dictionary\n",
        "student = {\"name\": \"Alex\", \"age\": 20, \"grade\": \"B\"}\n",
        "\n",
        "# 1.2. Display the value of the \"name\" key\n",
        "print(student[\"name\"])\n",
        "\n",
        "# 1.3. Change the \"grade\" value to \"A\"\n",
        "student[\"grade\"] = \"A\"\n",
        "\n",
        "# 1.4. Add a new key \"major\" with the value \"Computer Engineering\"\n",
        "student[\"major\"] = \"Computer Engineering\"\n",
        "\n",
        "# 1.5. Print all key-value pairs using a for loop\n",
        "for key, value in student.items():\n",
        "    print(f\"{key}: {value}\")"
      ]
    },
    {
      "cell_type": "code",
      "execution_count": null,
      "id": "dcf408f7",
      "metadata": {
        "colab": {
          "base_uri": "https://localhost:8080/"
        },
        "id": "dcf408f7",
        "outputId": "169b2803-e708-42f1-e014-31bb23a17c82"
      },
      "outputs": [
        {
          "output_type": "stream",
          "name": "stdout",
          "text": [
            "Enter the title of the book you want to borrow: Calculus\n",
            "Book not found\n"
          ]
        }
      ],
      "source": [
        "# 2.1. Create the books dictionary\n",
        "books = {\"Math\": 3, \"Science\": 5, \"History\": 2}\n",
        "\n",
        "# 2.2. Ask the user for the book title\n",
        "book_title = input(\"Enter the title of the book you want to borrow: \")\n",
        "\n",
        "# 2.3, 2.4, 2.5. Check availability and respond accordingly\n",
        "if book_title in books:\n",
        "    if books[book_title] > 0:\n",
        "        books[book_title] -= 1\n",
        "        print(\"You borrowed the book\")\n",
        "    else:\n",
        "        print(\"Book out of stock\")\n",
        "else:\n",
        "    print(\"Book not found\")"
      ]
    },
    {
      "cell_type": "code",
      "execution_count": null,
      "id": "bb4c6685",
      "metadata": {
        "id": "bb4c6685"
      },
      "outputs": [],
      "source": [
        "def income_tax(income):\n",
        "    if income <= 100000:\n",
        "        tax = 0\n",
        "    elif income <= 300000:\n",
        "        tax = (income - 100000) * 0.1\n",
        "    else:\n",
        "        tax = (200000 * 0.1) + (income - 300000) * 0.2\n",
        "    return tax\n",
        "\n",
        "user_income = float(input(\"Enter your annual income: \"))\n",
        "tax = income_tax(user_income)\n",
        "print(\"Tax =\", tax)"
      ]
    },
    {
      "cell_type": "code",
      "execution_count": null,
      "id": "e791560b",
      "metadata": {
        "id": "e791560b",
        "outputId": "08c5b4ce-99aa-4868-d8b8-ae108e3155c9"
      },
      "outputs": [
        {
          "name": "stdout",
          "output_type": "stream",
          "text": [
            "Car rented. Total cost = 6000.0\n",
            "Model: Toyota Camry\n",
            "Rent per day: 1200.0\n",
            "Status: Not available\n",
            "Car returned\n",
            "Model: Toyota Camry\n",
            "Rent per day: 1200.0\n",
            "Status: Available\n"
          ]
        }
      ],
      "source": [
        "class Car:\n",
        "    def __init__(self, model: str, rent_per_day: float, available: bool = True):\n",
        "        self.model = model\n",
        "        self.rent_per_day = rent_per_day\n",
        "        self.available = available\n",
        "\n",
        "    def rent(self, days: int):\n",
        "        if self.available:\n",
        "            self.available = False\n",
        "            total_cost = self.rent_per_day * days\n",
        "            print(f\"Car rented. Total cost = {total_cost}\")\n",
        "        else:\n",
        "            print(\"Car not available\")\n",
        "\n",
        "    def return_car(self):\n",
        "        self.available = True\n",
        "        print(\"Car returned\")\n",
        "\n",
        "    def display(self):\n",
        "        status = \"Available\" if self.available else \"Not available\"\n",
        "        print(f\"Model: {self.model}\")\n",
        "        print(f\"Rent per day: {self.rent_per_day}\")\n",
        "        print(f\"Status: {status}\")\n",
        "\n",
        "# Main program\n",
        "car1 = Car(\"Toyota Camry\", 1200.0)\n",
        "car1.rent(5)\n",
        "car1.display()\n",
        "car1.return_car()\n",
        "car1.display()"
      ]
    }
  ],
  "metadata": {
    "kernelspec": {
      "display_name": "Python 3",
      "language": "python",
      "name": "python3"
    },
    "language_info": {
      "codemirror_mode": {
        "name": "ipython",
        "version": 3
      },
      "file_extension": ".py",
      "mimetype": "text/x-python",
      "name": "python",
      "nbconvert_exporter": "python",
      "pygments_lexer": "ipython3",
      "version": "3.13.7"
    },
    "colab": {
      "provenance": [],
      "include_colab_link": true
    }
  },
  "nbformat": 4,
  "nbformat_minor": 5
}