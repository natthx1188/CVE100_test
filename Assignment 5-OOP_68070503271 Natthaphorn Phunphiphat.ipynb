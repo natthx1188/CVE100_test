{
 "cells": [
  {
   "cell_type": "code",
   "execution_count": null,
   "id": "fd185abe",
   "metadata": {},
   "outputs": [],
   "source": [
    "# Inheritance\n",
    "\n",
    "Step 1 Parent Class - Person\n",
    "1. Define a class \"Person\",\n",
    "2. Add __init__(self, name, age) and store those values on the object.\n",
    "3. Add a method display_info (self) that prints:\n",
    "    Name: <name>, Age: <age>\n",
    "\n",
    "Step 2: Child class - Student\n",
    "1. Define a class \"Student\" that inherits from \"Person\".\n",
    "2. Add __init__ function with super() to inherit the attributes from parent class.\n",
    "3. Add a new attribute \"marks\" and set it to an empty dictionary {}:\n",
    "    e.g., {\"Math\": 85}\n",
    "\n",
    "4. Implement add_mark (self, subject, score) function inside the Student class:\n",
    "    add or update the score in the marks dict.\n",
    "   \tif the subject does not exist in the mark dictionary, add new subject    and score to the dictionary\n",
    "        otherwise, update the score of the existing subject. \n",
    "    print a confirmation message like \"Added Science = 85\" or \"Updated Math = 90\"\n",
    "5. Implement display_marks(self) function.\n",
    "6. Implement average(self):\n",
    "    If no marks. return 0\n",
    "    otherwise, return the average (sumof scores / number of subjects)\n",
    "\n",
    "Step 3: Main Program\n",
    "1. Create one Student with name and age.\n",
    "2. Call display_info()\n",
    "3. Add at least two subject makrs\n",
    "4. Call display_marks()\n",
    "5. Print the average score the student.\n"
   ]
  },
  {
   "cell_type": "code",
   "execution_count": null,
   "id": "af125da8",
   "metadata": {},
   "outputs": [
    {
     "name": "stdout",
     "output_type": "stream",
     "text": [
      "Name: Natthaphorn Phunphiphat, Age: 20\n",
      "Added CVE100 = 95\n",
      "Added MTH10101 = 45\n",
      "CVE100: 95\n",
      "MTH10101: 45\n",
      "Average Score: 70.0\n"
     ]
    }
   ],
   "source": [
    "class Person:\n",
    "    def __init__(self, name, age):\n",
    "        self.name = name\n",
    "        self.age = age\n",
    "\n",
    "    def display_info(self):\n",
    "        print(f\"Name: {self.name}, Age: {self.age}\")\n",
    "class Student(Person):\n",
    "    def __init__(self, name, age):\n",
    "        super().__init__(name, age)\n",
    "        self.marks = {}\n",
    "\n",
    "    def add_mark(self, subject, score):\n",
    "        if subject in self.marks:\n",
    "            self.marks[subject] = score\n",
    "            print(f\"Updated {subject} = {score}\")\n",
    "        else:\n",
    "            self.marks[subject] = score\n",
    "            print(f\"Added {subject} = {score}\")\n",
    "\n",
    "    def display_marks(self):\n",
    "        for subject, score in self.marks.items():\n",
    "            print(f\"{subject}: {score}\")\n",
    "\n",
    "    def average(self):\n",
    "        if not self.marks:\n",
    "            return 0\n",
    "        return sum(self.marks.values()) / len(self.marks)\n",
    "    \n",
    "if __name__ == \"__main__\":\n",
    "    student = Student(\"Natthaphorn Phunphiphat\", 22)\n",
    "    student.display_info()\n",
    "    student.add_mark(\"CVE100\", 95)\n",
    "    student.add_mark(\"MTH10101\", 45)\n",
    "    student.display_marks()\n",
    "    print(f\"Average Score: {student.average()}\")"
   ]
  }
 ],
 "metadata": {
  "kernelspec": {
   "display_name": "Python 3",
   "language": "python",
   "name": "python3"
  },
  "language_info": {
   "codemirror_mode": {
    "name": "ipython",
    "version": 3
   },
   "file_extension": ".py",
   "mimetype": "text/x-python",
   "name": "python",
   "nbconvert_exporter": "python",
   "pygments_lexer": "ipython3",
   "version": "3.13.7"
  }
 },
 "nbformat": 4,
 "nbformat_minor": 5
}
