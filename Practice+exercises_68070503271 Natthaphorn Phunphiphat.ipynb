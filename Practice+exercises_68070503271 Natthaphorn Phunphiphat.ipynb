{
 "cells": [
  {
   "cell_type": "markdown",
   "id": "186222d0",
   "metadata": {},
   "source": [
    "Exercise 1\n",
    "\n",
    "Write a function to report the weather condition. \n",
    "Input ==> Temperature ('C)\n",
    "\n",
    "IF the temperature is below 0, print \"Freezing Cold\"\n",
    "IF the temperature is 0-20, print \"Cold Weather\"\n",
    "IF the temperature is 21-30, print \" Warm Weather\"\n",
    "Otherwise, print \"Hot Weather\""
   ]
  },
  {
   "cell_type": "code",
   "execution_count": 24,
   "id": "4bbb422e",
   "metadata": {},
   "outputs": [
    {
     "name": "stdout",
     "output_type": "stream",
     "text": [
      "Temperature: -5°C → Freezing Cold\n",
      "Temperature: 0°C → Cold Weather\n",
      "Temperature: 5°C → Cold Weather\n",
      "Temperature: 15°C → Cold Weather\n",
      "Temperature: 25°C → Warm Weather\n",
      "Temperature: 35°C → Hot Weather\n"
     ]
    }
   ],
   "source": [
    "def weather_report(temp: float):\n",
    "    if temp < 0:\n",
    "        print(\"Freezing Cold\")\n",
    "    elif 0 <= temp <= 20:\n",
    "        print(\"Cold Weather\")\n",
    "    elif 21 <= temp <= 30:\n",
    "        print(\"Warm Weather\")\n",
    "    else:\n",
    "        print(\"Hot Weather\")\n",
    "# Example tests\n",
    "for temp in [-5, 0, 5, 15, 25, 35]:\n",
    "    print(f\"Temperature: {temp}°C → \",end= \"\")\n",
    "    weather_report(temp)\n"
   ]
  },
  {
   "cell_type": "markdown",
   "id": "36f44c18",
   "metadata": {},
   "source": [
    "Exercise 2\n",
    "\n",
    "Write a function that takes an integer as an input score\n",
    "\n",
    "If the score is greater than or equal to 50, print \"Pass\"\n",
    "If the score is greater than or equal to 75, print \"Good\"\n",
    "If the score is exactly 100, print \"Perfect\"\n",
    "\n",
    "Since these are multiple independent conditions, more than one message print"
   ]
  },
  {
   "cell_type": "code",
   "execution_count": 59,
   "id": "a2310ebb",
   "metadata": {},
   "outputs": [
    {
     "name": "stdout",
     "output_type": "stream",
     "text": [
      "Score: 45 → Fail\n",
      "Score: 49.9 → Fail\n",
      "Score: 50 → Pass\n",
      "Score: 75 → Good\n",
      "Score: 76 → Good\n",
      "Score: 100 → Perfect\n",
      "Score: 109 → Perfect\n"
     ]
    }
   ],
   "source": [
    "def get_score(score: float):\n",
    "    if score < 50:\n",
    "        print(\"Fail\")\n",
    "    elif score < 75:\n",
    "        print(\"Pass\")\n",
    "    elif score < 100:\n",
    "        print(\"Good\")\n",
    "    else:\n",
    "        print(\"Perfect\")\n",
    "\n",
    "for score in [45,49.9, 50, 75, 76, 100, 109]:\n",
    "   print(f\"Score: {score} → \", end=\"\")\n",
    "   get_score(score)"
   ]
  },
  {
   "cell_type": "markdown",
   "id": "5c1b906e",
   "metadata": {},
   "source": [
    "Exercise 3\n",
    "\n",
    "Write a program that returns the count of vowels in the string. Use a for loop to go through each character in the string.\n",
    "\n",
    "Input ==> apple, Output ==> 2\n",
    "\n",
    "Input ==> Hello World, Output => 3\n",
    "\n",
    "Input ==> balloon, Output ==> 3"
   ]
  },
  {
   "cell_type": "code",
   "execution_count": 73,
   "id": "64239a6d",
   "metadata": {},
   "outputs": [
    {
     "name": "stdout",
     "output_type": "stream",
     "text": [
      "'apple' has 2 vowels.\n",
      "'Hello World' has 3 vowels.\n",
      "'balloon' has 3 vowels.\n"
     ]
    }
   ],
   "source": [
    "def count_vowels(st: str):\n",
    "    count = 0\n",
    "    vowels = \"aeiouAEIOU\"\n",
    "    for ch in st:\n",
    "        if ch in vowels:\n",
    "            count += 1\n",
    "    return count\n",
    "# Example tests\n",
    "for ch in [\"apple\",\"Hello World\",\"balloon\"]:\n",
    "    print(f\"'{ch}' has {count_vowels(ch)} vowels.\")\n"
   ]
  }
 ],
 "metadata": {
  "kernelspec": {
   "display_name": "Python 3",
   "language": "python",
   "name": "python3"
  },
  "language_info": {
   "codemirror_mode": {
    "name": "ipython",
    "version": 3
   },
   "file_extension": ".py",
   "mimetype": "text/x-python",
   "name": "python",
   "nbconvert_exporter": "python",
   "pygments_lexer": "ipython3",
   "version": "3.13.7"
  }
 },
 "nbformat": 4,
 "nbformat_minor": 5
}
